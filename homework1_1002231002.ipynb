{
 "cells": [
  {
   "cell_type": "markdown",
   "metadata": {},
   "source": [
    "# Homework 1: Python Exercises"
   ]
  },
  {
   "cell_type": "markdown",
   "metadata": {},
   "source": [
    "## Dictionary"
   ]
  },
  {
   "cell_type": "markdown",
   "metadata": {},
   "source": [
    "#### Print the value of age of each key in the following nested dictionary"
   ]
  },
  {
   "cell_type": "code",
   "execution_count": 1,
   "metadata": {},
   "outputs": [
    {
     "name": "stdout",
     "output_type": "stream",
     "text": [
      "The age of person 1 is: 25\n",
      "The age of person 2 is: 21\n",
      "The age of person 2 is: 25\n",
      "The age of person 2 is: 21\n"
     ]
    }
   ],
   "source": [
    "people = {'person 1': {'DOB': 'June', 'age': '25', 'sex': 'M'},\n",
    "          'person 2': {'DOB': 'May', 'age': '21', 'sex': 'F'}}\n",
    "\n",
    "# print age of each key\n",
    "for key in people.keys():\n",
    "    print(f'The age of {key} is:', people[key]['age'])\n",
    "    \n",
    "# or \n",
    "for person in people.values():\n",
    "    print(f'The age of {key} is:', person['age'])"
   ]
  },
  {
   "cell_type": "markdown",
   "metadata": {},
   "source": [
    "#### Add an element.\n",
    "- Add person 3 using people['person3']={}\n",
    "- Then set the age of 'person3' to be '29' and print the entire dictionary"
   ]
  },
  {
   "cell_type": "code",
   "execution_count": 2,
   "metadata": {
    "scrolled": false
   },
   "outputs": [
    {
     "name": "stdout",
     "output_type": "stream",
     "text": [
      "The age of person 1 is: 25\n",
      "The age of person 2 is: 21\n",
      "The age of person 3 is: 29\n"
     ]
    }
   ],
   "source": [
    "# adding a new key\n",
    "people['person 3'] = {'DOB': 'July', 'age': '30', 'sex': 'M'}\n",
    "people['person 3']['age'] = '29'\n",
    "for key, person in people.items():\n",
    "    print(f'The age of {key} is:', person['age'])   "
   ]
  },
  {
   "cell_type": "markdown",
   "metadata": {},
   "source": [
    "## Arrays"
   ]
  },
  {
   "cell_type": "markdown",
   "metadata": {},
   "source": [
    "#### Import package for array operations"
   ]
  },
  {
   "cell_type": "code",
   "execution_count": 3,
   "metadata": {},
   "outputs": [],
   "source": [
    "import numpy as np"
   ]
  },
  {
   "cell_type": "markdown",
   "metadata": {},
   "source": [
    "#### Enter the following matrices using ```np.array(...)```: \n",
    "$$D=\\begin{bmatrix} 6 & 1 & 3\\\\ 3 & 9 & -3\\\\ 9 & 3 & 4 \\end{bmatrix}$$ \n",
    "\n",
    "$$E=\\begin{bmatrix} 7 & 6\\\\ 4 & 2 \\end{bmatrix}$$ \n",
    "\n",
    "$$F=\\begin{bmatrix} 3 & 4\\\\ -9 & -3 \\end{bmatrix}$$\n"
   ]
  },
  {
   "cell_type": "code",
   "execution_count": 29,
   "metadata": {},
   "outputs": [
    {
     "name": "stdout",
     "output_type": "stream",
     "text": [
      "Matrix D:\n",
      " [[ 6  1  3]\n",
      " [ 3  9 -3]\n",
      " [ 9  3  4]]\n",
      "Matrix E:\n",
      " [[7 6]\n",
      " [4 2]]\n",
      "Matrix F:\n",
      " [[ 3  4]\n",
      " [-9 -3]]\n"
     ]
    }
   ],
   "source": [
    "D = np.array([[6,1,3], [3,9,-3], [9,3,4]])\n",
    "E = np.array([[7,6], [4,2]])\n",
    "F = np.array([[3,4], [-9,-3]])\n",
    "print(\"Matrix D:\\n\", D)\n",
    "print(\"Matrix E:\\n\", E)\n",
    "print(\"Matrix F:\\n\", F)"
   ]
  },
  {
   "cell_type": "markdown",
   "metadata": {},
   "source": [
    "#### Extract the following 2x2 matrix from $D$ : $\\begin{bmatrix} 9 & -3\\\\ 3 & 4 \\end{bmatrix}$ and assign it to $G$. \n",
    "Ref.: see the [Numpy documentation](https://docs.scipy.org/doc/numpy/user/quickstart.html)."
   ]
  },
  {
   "cell_type": "code",
   "execution_count": 5,
   "metadata": {},
   "outputs": [
    {
     "data": {
      "text/plain": [
       "array([[ 9, -3],\n",
       "       [ 3,  4]])"
      ]
     },
     "execution_count": 5,
     "metadata": {},
     "output_type": "execute_result"
    }
   ],
   "source": [
    "# hint\n",
    "# using the colon notation, for example, D[:2, :2], to select desired submatrix\n",
    "G = D[1:, 1:] \n",
    "G"
   ]
  },
  {
   "cell_type": "code",
   "execution_count": null,
   "metadata": {},
   "outputs": [],
   "source": []
  },
  {
   "cell_type": "code",
   "execution_count": null,
   "metadata": {},
   "outputs": [],
   "source": []
  },
  {
   "cell_type": "markdown",
   "metadata": {},
   "source": [
    "#### Find the column-wise sum of the elements in Matrix $D$ using [np.sum](https://numpy.org/doc/stable/reference/generated/numpy.mean.html)."
   ]
  },
  {
   "cell_type": "code",
   "execution_count": 32,
   "metadata": {},
   "outputs": [
    {
     "name": "stdout",
     "output_type": "stream",
     "text": [
      "The sum of column 0 is: 18\n",
      "The sum of column 1 is: 13\n",
      "The sum of column 2 is: 4\n"
     ]
    }
   ],
   "source": [
    "column_sum = np.sum(D, axis=0)\n",
    "\n",
    "for i in range(len(column_sum)):\n",
    "    print(f'The sum of column {i} is:', column_sum[i])"
   ]
  },
  {
   "cell_type": "markdown",
   "metadata": {},
   "source": [
    "#### Find the row-wise mean of the elements in Matrix $D$ using [np.mean](https://numpy.org/doc/stable/reference/generated/numpy.sum.html)."
   ]
  },
  {
   "cell_type": "code",
   "execution_count": 33,
   "metadata": {},
   "outputs": [
    {
     "name": "stdout",
     "output_type": "stream",
     "text": [
      "The mean of row 0 is: 3.3333333333333335\n",
      "The mean of row 1 is: 3.0\n",
      "The mean of row 2 is: 5.333333333333333\n"
     ]
    }
   ],
   "source": [
    "row_mean = np.mean(D, axis=1)\n",
    "for i in range(len(row_mean)):\n",
    "    print(f'The mean of row {i} is:', row_mean[i])"
   ]
  },
  {
   "cell_type": "markdown",
   "metadata": {},
   "source": [
    "#### Create a $5 \\times 5$ matrix, $J$, which is consisted of standard normal random numbers using [np.random.normal](https://numpy.org/doc/stable/reference/random/generated/numpy.random.normal.html)."
   ]
  },
  {
   "cell_type": "code",
   "execution_count": 8,
   "metadata": {},
   "outputs": [
    {
     "name": "stdout",
     "output_type": "stream",
     "text": [
      "[[ 6.87303609  0.16473076  0.41548474 -1.21890587  4.59622289]\n",
      " [-4.90461609  7.23443529 -0.2836207   2.95711729  1.25188887]\n",
      " [ 6.38632381 -4.18042213  1.03274839  0.84783694  5.40130833]\n",
      " [-1.2996738   1.48271538 -0.63357525  2.12664124  3.74844564]\n",
      " [-1.30185753  5.43417113  4.70477216  3.50748302  4.70256785]]\n"
     ]
    }
   ],
   "source": [
    "import numpy as np\n",
    "\n",
    "np.random.seed(1)\n",
    "\n",
    "J = np.random.normal(loc=2, scale=3, size=(5, 5))\n",
    "\n",
    "print(J)"
   ]
  },
  {
   "cell_type": "markdown",
   "metadata": {},
   "source": [
    "#### Compute a new matrix $J$ from $H$, where 1) The negative numbers are replaced by their absolute value, and 2) The positive elements are replaced by 10.\n",
    "- Use a ```for``` loop to iterate over each (i, j) index pair.\n",
    "- Use np.where"
   ]
  },
  {
   "cell_type": "code",
   "execution_count": 9,
   "metadata": {},
   "outputs": [
    {
     "name": "stdout",
     "output_type": "stream",
     "text": [
      "H:\n",
      " [[10.         10.         10.          1.21890587 10.        ]\n",
      " [ 4.90461609 10.          0.2836207  10.         10.        ]\n",
      " [10.          4.18042213 10.         10.         10.        ]\n",
      " [ 1.2996738  10.          0.63357525 10.         10.        ]\n",
      " [ 1.30185753 10.         10.         10.         10.        ]]\n"
     ]
    }
   ],
   "source": [
    "H = J.copy()\n",
    "\n",
    "len_H = len(H)\n",
    "for i in range(len_H):\n",
    "    for j in range(len_H):\n",
    "        if H[i][j] < 0:\n",
    "            H[i][j] = abs(H[i][j])\n",
    "        elif H[i][j] >+ 0 :\n",
    "            H[i][j] = 10\n",
    "\n",
    "print('H:\\n', H)"
   ]
  },
  {
   "cell_type": "code",
   "execution_count": 10,
   "metadata": {},
   "outputs": [],
   "source": [
    "# 2. Use np.where loop\n",
    "# hint for calculating absolute values using np.abs(): np.abs(-3) = 3\n",
    "J = np.where(H<=0, np.abs(H), 10)\n",
    "\n"
   ]
  },
  {
   "cell_type": "code",
   "execution_count": null,
   "metadata": {},
   "outputs": [],
   "source": []
  },
  {
   "cell_type": "markdown",
   "metadata": {},
   "source": [
    "#### Create a result array by adding the following two NumPy arrays. \n",
    "#### Then modify the result array by calculating the square root of each element using np.sqrt(). Name the new resultant array 'array3'."
   ]
  },
  {
   "cell_type": "code",
   "execution_count": 11,
   "metadata": {},
   "outputs": [
    {
     "name": "stdout",
     "output_type": "stream",
     "text": [
      "Array 3:\n",
      " [[20 39 33]\n",
      " [25 25 35]]\n",
      "Square root of each element of array 3:\n",
      " [[4.47213595 6.244998   5.74456265]\n",
      " [5.         5.         5.91607978]]\n"
     ]
    }
   ],
   "source": [
    "array1 = np.array([[5, 6, 9], [21 ,18, 27]])\n",
    "array2 = np.array([[15 ,33, 24], [4 ,7, 8]])\n",
    "\n",
    "# add two arrays array3 = \n",
    "array3 = array1 + array2;\n",
    "print('Array 3:\\n', array3)\n",
    "\n",
    "# calculate the square root\n",
    "array3 = np.sqrt(array3)\n",
    "\n",
    "print('Square root of each element of array 3:\\n', array3)\n"
   ]
  },
  {
   "cell_type": "markdown",
   "metadata": {},
   "source": [
    "#### find the index of the largest element in each row of array3 using [numpy.argmax](https://numpy.org/doc/stable/reference/generated/numpy.argmax.html)"
   ]
  },
  {
   "cell_type": "code",
   "execution_count": 34,
   "metadata": {},
   "outputs": [
    {
     "name": "stdout",
     "output_type": "stream",
     "text": [
      "Index of largest elemet in row 0 is: 1\n",
      "Index of largest elemet in row 1 is: 2\n"
     ]
    }
   ],
   "source": [
    "indices_row_1 = np.argmax(array3, axis=1) \n",
    "#print index for each row seperatly\n",
    "\n",
    "for i in range(len(indices_row_1)):\n",
    "    print(f'Index of largest elemet in row {i} is:', indices_row_1[i])\n"
   ]
  },
  {
   "cell_type": "markdown",
   "metadata": {},
   "source": [
    "## Comprehension"
   ]
  },
  {
   "cell_type": "markdown",
   "metadata": {},
   "source": [
    "#### Produce a new list name 'H_list' by flattening $H$ into a 1d array and convert it to a list\n",
    "Hint: Use [numpy.ndarray.flatten](https://numpy.org/doc/stable/reference/generated/numpy.ndarray.flatten.html) as well as\n",
    "[numpy.ndarray.tolist](https://numpy.org/doc/stable/reference/generated/numpy.ndarray.tolist.html)."
   ]
  },
  {
   "cell_type": "code",
   "execution_count": 13,
   "metadata": {},
   "outputs": [
    {
     "name": "stdout",
     "output_type": "stream",
     "text": [
      "H_list:\n",
      " [1.6243453636632417, -0.6117564136500754, -0.5281717522634557, -1.0729686221561705, 0.8654076293246785, -2.3015386968802827, 1.74481176421648, -0.7612069008951028, 0.31903909605709857, -0.2493703754774101, 1.462107937044974, -2.060140709497654, -0.3224172040135075, -0.38405435466841564, 1.1337694423354374, -1.0998912673140309, -0.17242820755043575, -0.8778584179213718, 0.04221374671559283, 0.5828152137158222, -1.1006191772129212, 1.1447237098396141, 0.9015907205927955, 0.5024943389018682, 0.9008559492644118]\n"
     ]
    }
   ],
   "source": [
    "import numpy as np\n",
    "\n",
    "# generate H\n",
    "np.random.seed(1) \n",
    "H = np.random.normal(loc=0, scale=1, size=(5,5)) # loc and scale can be ignored if it is standard normal distribution\n",
    "\n",
    "# flatten and convert\n",
    "H_list = H.flatten().tolist()\n",
    "\n",
    "\n",
    "# print\n",
    "print('H_list:\\n', H_list)"
   ]
  },
  {
   "cell_type": "markdown",
   "metadata": {},
   "source": [
    "#### Use list comprehension to modify 'H_list' as follows: 1) replace negative number by their absolute value, and 2) replace positive numbers by 10. Return 'H_list_new' after all operations.\n",
    "Hint: use 'if else' within list comprehension. Check out this [reference](https://stackoverflow.com/questions/4406389/if-else-in-a-list-comprehension)."
   ]
  },
  {
   "cell_type": "code",
   "execution_count": 14,
   "metadata": {},
   "outputs": [
    {
     "name": "stdout",
     "output_type": "stream",
     "text": [
      "H_list_new:\n",
      " [10, 0.6117564136500754, 0.5281717522634557, 1.0729686221561705, 10, 2.3015386968802827, 10, 0.7612069008951028, 10, 0.2493703754774101, 10, 2.060140709497654, 0.3224172040135075, 0.38405435466841564, 10, 1.0998912673140309, 0.17242820755043575, 0.8778584179213718, 10, 10, 1.1006191772129212, 10, 10, 10, 10]\n"
     ]
    }
   ],
   "source": [
    "H_list_new = [abs(x) if x < 0 else 10 for x in H_list]\n",
    "print('H_list_new:\\n', H_list_new)"
   ]
  },
  {
   "cell_type": "markdown",
   "metadata": {},
   "source": [
    "#### Use zip and comprehension to create a dictionary named 'uta_dict' where the keys are list_a and the values are list_b. "
   ]
  },
  {
   "cell_type": "code",
   "execution_count": 15,
   "metadata": {},
   "outputs": [
    {
     "name": "stdout",
     "output_type": "stream",
     "text": [
      "uta_dict: {'Country': 'USA', 'State': 'Texas', 'School': 'UTA'}\n"
     ]
    }
   ],
   "source": [
    "# create lists\n",
    "list_a = ['Country', 'State', 'School']\n",
    "list_b = ['USA', 'Texas', 'UTA']\n",
    "\n",
    "# zip two lists\n",
    "zip_list = zip(list_a, list_b)\n",
    "\n",
    "# comprehension\n",
    "uta_dict = {key: value for key, value in zip_list}\n",
    "print('uta_dict:', uta_dict)\n"
   ]
  },
  {
   "cell_type": "markdown",
   "metadata": {},
   "source": [
    "#### Keep elements in list_a that has 'S' in it using list comprehension."
   ]
  },
  {
   "cell_type": "code",
   "execution_count": 16,
   "metadata": {
    "scrolled": true
   },
   "outputs": [
    {
     "name": "stdout",
     "output_type": "stream",
     "text": [
      "filtered_list_a: ['State', 'School']\n"
     ]
    }
   ],
   "source": [
    "# hint: use if condition, if 'S' in , after the for loop in the list comprehension\n",
    "filtered_list_a = [item for item in list_a if 'S' in item]\n",
    "\n",
    "print('filtered_list_a:', filtered_list_a)"
   ]
  },
  {
   "cell_type": "markdown",
   "metadata": {},
   "source": [
    "## Functions"
   ]
  },
  {
   "cell_type": "markdown",
   "metadata": {},
   "source": [
    "#### Write a function ```sum_square(n)``` that takes as input $n$ and returns $y$, where $$y=\\left(1+2^{2}+\\cdots+n^{2}\\right)=\\sum_{k=1}^{n}k^{2}$$\n",
    "- Use for loop\n",
    "- Use np.sum()"
   ]
  },
  {
   "cell_type": "code",
   "execution_count": 17,
   "metadata": {},
   "outputs": [
    {
     "name": "stdout",
     "output_type": "stream",
     "text": [
      "55\n"
     ]
    }
   ],
   "source": [
    "# using a for loop\n",
    "def sum_square(n):\n",
    "    y = 0\n",
    "    for k in range(1, n + 1):\n",
    "        y += k ** 2\n",
    "    return y\n",
    "\n",
    "print(sum_square(5))"
   ]
  },
  {
   "cell_type": "code",
   "execution_count": 18,
   "metadata": {},
   "outputs": [],
   "source": [
    "# using np.sum()\n",
    "\n",
    "# a regular function\n",
    "def sum_square(n):\n",
    "    return np.sum(np.arange(1,n+1)**2) \n",
    "\n",
    "# a lambda function\n",
    "y = lambda n: np.sum(np.arange(1,n+1)**2) "
   ]
  },
  {
   "cell_type": "markdown",
   "metadata": {},
   "source": [
    "## Plots\n",
    "\n",
    "- Plot $sin(x)$ and $sec(x)$ between $-3\\pi$ and $3\\pi$ on the same graph, using different colors, line styles, and markers for the two curves. \n",
    "- Include a legend to distinguish between the two curves. \n",
    "- Add $x$ and $y$ labels, and a title to the plot. \n",
    "- You will probably need to use the function ```ylim```, which set the range of $y$ values, to enhance the readability of your plot.\n",
    "- save the plot as a pdf (dpi=250; tight layout) to the a neighboring folder named 'plot_folder'. Relative path should be used. Hint: the path looks something like './plot_folder/{plot_name}.pdf'\n",
    "\n",
    "For those who are interested, here is an article about [making publication quality plot using Python](https://github.com/jbmouret/matplotlib_for_papers)."
   ]
  },
  {
   "cell_type": "code",
   "execution_count": 19,
   "metadata": {},
   "outputs": [],
   "source": [
    "# import necessary packages\n",
    "import numpy as np\n",
    "import matplotlib.pyplot as plt\n",
    "import os"
   ]
  },
  {
   "cell_type": "code",
   "execution_count": 20,
   "metadata": {},
   "outputs": [
    {
     "data": {
      "image/png": "[encoded data removed]",
      "text/plain": [
       "<Figure size 1000x600 with 1 Axes>"
      ]
     },
     "metadata": {},
     "output_type": "display_data"
    }
   ],
   "source": [
    "# make and format plot\n",
    "x = np.linspace(-3 * np.pi, 3 * np.pi, 1000)\n",
    "\n",
    "y_sin = np.sin(x)\n",
    "y_sec = 1 / np.cos(x)\n",
    "\n",
    "\n",
    "plt.figure(figsize=(10, 6))\n",
    "\n",
    "plt.plot(x, y_sin, label='sin(x)', color='blue', linestyle='-', marker='o')\n",
    "\n",
    "plt.plot(x, y_sec, label='sec(x)', color='red', linestyle='--', marker='x')\n",
    "\n",
    "plt.ylim(-10, 10)\n",
    "\n",
    "plt.xlabel('x')\n",
    "plt.ylabel('y')\n",
    "plt.title('Plot of sin(x) and sec(x)')\n",
    "\n",
    "plt.legend()\n",
    "plt.show()"
   ]
  },
  {
   "cell_type": "code",
   "execution_count": 21,
   "metadata": {},
   "outputs": [
    {
     "data": {
      "text/plain": [
       "<Figure size 640x480 with 0 Axes>"
      ]
     },
     "metadata": {},
     "output_type": "display_data"
    }
   ],
   "source": [
    "output_dir = './plot_folder'\n",
    "if not os.path.exists(output_dir):\n",
    "    os.makedirs(output_dir)\n",
    "plt.savefig(os.path.join(output_dir, 'sin_sec_plot.pdf'), dpi=250, bbox_inches='tight')"
   ]
  },
  {
   "cell_type": "code",
   "execution_count": null,
   "metadata": {},
   "outputs": [],
   "source": []
  },
  {
   "cell_type": "markdown",
   "metadata": {},
   "source": [
    "## Importing Data"
   ]
  },
  {
   "cell_type": "markdown",
   "metadata": {},
   "source": [
    "#### Load the data from the Excel file ```taxi.csv```. \n",
    "CSV is a plain text format in which values are separated by commas.\n",
    "Then print the top 5 rows and colum names"
   ]
  },
  {
   "cell_type": "code",
   "execution_count": 22,
   "metadata": {
    "scrolled": true
   },
   "outputs": [
    {
     "name": "stdout",
     "output_type": "stream",
     "text": [
      "    medallion  hack_license vendor_id pickup_datetime dropoff_datetime  \\\n",
      "0  2010000001    2010000001       VTS   1/1/2010 0:00    1/1/2010 0:34   \n",
      "1  2010000002    2010000002       VTS   1/1/2010 0:00    1/1/2010 0:33   \n",
      "2  2010000003    2010000003       VTS   1/1/2010 0:00    1/1/2010 0:07   \n",
      "3  2010000004    2010000004       VTS   1/1/2010 0:00    1/1/2010 0:33   \n",
      "4  2010000005    2010000005       VTS   1/1/2010 0:00    1/1/2010 0:28   \n",
      "\n",
      "   passenger_count  trip_time_in_secs  trip_distance  \n",
      "0                1               34.0          14.05  \n",
      "1                1               33.0           9.65  \n",
      "2                1                7.0           1.63  \n",
      "3                1               33.0          26.61  \n",
      "4                2               28.0           3.15  \n"
     ]
    }
   ],
   "source": [
    "# import pandas\n",
    "import pandas as pd\n",
    "\n",
    "# import the data using relative path/directory\n",
    "taxi = pd.read_csv('taxi.csv')\n",
    "\n",
    "# print top 5 rows\n",
    "print(taxi.head())\n",
    "\n"
   ]
  },
  {
   "cell_type": "code",
   "execution_count": 23,
   "metadata": {},
   "outputs": [
    {
     "name": "stdout",
     "output_type": "stream",
     "text": [
      "Index(['medallion', 'hack_license', 'vendor_id', 'pickup_datetime',\n",
      "       'dropoff_datetime', 'passenger_count', 'trip_time_in_secs',\n",
      "       'trip_distance'],\n",
      "      dtype='object')\n"
     ]
    }
   ],
   "source": [
    "# print column names\n",
    "print(taxi.columns) \n"
   ]
  },
  {
   "cell_type": "markdown",
   "metadata": {},
   "source": [
    "#### Now compute the average passenger count, average trip time in seconds, and the average trip distance. You may change the columns to lists and do the computation or you may explore the [Pandas documentation](http://pandas.pydata.org/pandas-docs/stable/10min.html) for native functionality."
   ]
  },
  {
   "cell_type": "code",
   "execution_count": 24,
   "metadata": {},
   "outputs": [
    {
     "name": "stdout",
     "output_type": "stream",
     "text": [
      "0       VTS\n",
      "1       VTS\n",
      "2       VTS\n",
      "3       VTS\n",
      "4       VTS\n",
      "       ... \n",
      "2994    VTS\n",
      "2995    VTS\n",
      "2996    VTS\n",
      "2997    VTS\n",
      "2998    VTS\n",
      "Name: vendor_id, Length: 2999, dtype: object\n",
      "['VTS', 'VTS', 'VTS', 'VTS', 'VTS', 'VTS', 'VTS', 'VTS', 'CMT', 'CMT', 'CMT', 'CMT', 'DDS', 'CMT', 'CMT', 'CMT', 'CMT', 'CMT', 'CMT', 'CMT', 'CMT', 'VTS', 'CMT', 'CMT', 'VTS', 'CMT', 'CMT', 'CMT', 'CMT', 'CMT', 'CMT', 'CMT', 'CMT', 'CMT', 'CMT', 'CMT', 'DDS', 'CMT', 'CMT', 'CMT', 'CMT', 'CMT', 'CMT', 'CMT', 'CMT', 'CMT', 'CMT', 'DDS', 'CMT', 'CMT', 'CMT', 'CMT', 'CMT', 'CMT', 'CMT', 'CMT', 'CMT', 'CMT', 'CMT', 'DDS', 'CMT', 'CMT', 'CMT', 'CMT', 'CMT', 'CMT', 'CMT', 'VTS', 'CMT', 'VTS', 'VTS', 'VTS', 'VTS', 'VTS', 'VTS', 'VTS', 'VTS', 'VTS', 'VTS', 'VTS', 'VTS', 'CMT', 'CMT', 'CMT', 'DDS', 'CMT', 'CMT', 'CMT', 'CMT', 'VTS', 'VTS', 'CMT', 'CMT', 'DDS', 'CMT', 'CMT', 'CMT', 'CMT', 'CMT', 'CMT', 'CMT', 'CMT', 'CMT', 'CMT', 'CMT', 'CMT', 'VTS', 'CMT', 'DDS', 'CMT', 'CMT', 'CMT', 'CMT', 'CMT', 'CMT', 'CMT', 'CMT', 'CMT', 'CMT', 'CMT', 'CMT', 'CMT', 'CMT', 'VTS', 'CMT', 'CMT', 'CMT', 'CMT', 'DDS', 'CMT', 'CMT', 'CMT', 'DDS', 'DDS', 'CMT', 'CMT', 'CMT', 'DDS', 'CMT', 'CMT', 'CMT', 'CMT', 'CMT', 'CMT', 'CMT', 'CMT', 'CMT', 'VTS', 'CMT', 'CMT', 'CMT', 'VTS', 'CMT', 'CMT', 'CMT', 'CMT', 'CMT', 'CMT', 'CMT', 'DDS', 'CMT', 'DDS', 'CMT', 'CMT', 'CMT', 'VTS', 'VTS', 'VTS', 'VTS', 'VTS', 'VTS', 'CMT', 'VTS', 'VTS', 'VTS', 'VTS', 'VTS', 'CMT', 'CMT', 'CMT', 'CMT', 'DDS', 'CMT', 'DDS', 'CMT', 'CMT', 'CMT', 'CMT', 'CMT', 'CMT', 'DDS', 'CMT', 'CMT', 'CMT', 'CMT', 'CMT', 'CMT', 'CMT', 'CMT', 'CMT', 'CMT', 'CMT', 'DDS', 'CMT', 'CMT', 'CMT', 'DDS', 'CMT', 'CMT', 'CMT', 'CMT', 'CMT', 'CMT', 'CMT', 'CMT', 'DDS', 'CMT', 'CMT', 'CMT', 'CMT', 'CMT', 'CMT', 'CMT', 'CMT', 'VTS', 'CMT', 'CMT', 'CMT', 'CMT', 'CMT', 'CMT', 'CMT', 'CMT', 'CMT', 'CMT', 'CMT', 'CMT', 'CMT', 'CMT', 'CMT', 'CMT', 'CMT', 'CMT', 'DDS', 'CMT', 'CMT', 'CMT', 'CMT', 'CMT', 'CMT', 'VTS', 'CMT', 'CMT', 'DDS', 'CMT', 'CMT', 'VTS', 'VTS', 'VTS', 'VTS', 'VTS', 'VTS', 'VTS', 'VTS', 'VTS', 'VTS', 'CMT', 'VTS', 'VTS', 'CMT', 'VTS', 'VTS', 'CMT', 'CMT', 'CMT', 'CMT', 'CMT', 'CMT', 'CMT', 'DDS', 'CMT', 'CMT', 'CMT', 'DDS', 'DDS', 'CMT', 'CMT', 'VTS', 'CMT', 'CMT', 'DDS', 'CMT', 'CMT', 'CMT', 'CMT', 'CMT', 'CMT', 'CMT', 'CMT', 'VTS', 'CMT', 'CMT', 'CMT', 'DDS', 'CMT', 'CMT', 'CMT', 'CMT', 'CMT', 'CMT', 'CMT', 'CMT', 'DDS', 'CMT', 'CMT', 'CMT', 'CMT', 'CMT', 'CMT', 'CMT', 'CMT', 'CMT', 'CMT', 'CMT', 'CMT', 'CMT', 'DDS', 'CMT', 'CMT', 'DDS', 'CMT', 'CMT', 'CMT', 'CMT', 'CMT', 'CMT', 'CMT', 'CMT', 'CMT', 'CMT', 'CMT', 'DDS', 'CMT', 'CMT', 'CMT', 'CMT', 'CMT', 'VTS', 'CMT', 'CMT', 'VTS', 'CMT', 'CMT', 'CMT', 'CMT', 'CMT', 'CMT', 'CMT', 'CMT', 'CMT', 'CMT', 'DDS', 'CMT', 'CMT', 'CMT', 'CMT', 'CMT', 'CMT', 'CMT', 'CMT', 'CMT', 'CMT', 'CMT', 'VTS', 'VTS', 'VTS', 'VTS', 'VTS', 'VTS', 'VTS', 'CMT', 'VTS', 'VTS', 'VTS', 'VTS', 'VTS', 'VTS', 'VTS', 'VTS', 'CMT', 'VTS', 'VTS', 'VTS', 'VTS', 'VTS', 'VTS', 'DDS', 'CMT', 'DDS', 'CMT', 'VTS', 'CMT', 'DDS', 'CMT', 'CMT', 'CMT', 'VTS', 'CMT', 'VTS', 'DDS', 'VTS', 'CMT', 'VTS', 'CMT', 'CMT', 'CMT', 'CMT', 'CMT', 'CMT', 'CMT', 'CMT', 'DDS', 'CMT', 'CMT', 'CMT', 'CMT', 'CMT', 'CMT', 'CMT', 'CMT', 'DDS', 'CMT', 'CMT', 'CMT', 'CMT', 'CMT', 'CMT', 'CMT', 'VTS', 'CMT', 'CMT', 'CMT', 'CMT', 'CMT', 'DDS', 'CMT', 'CMT', 'CMT', 'CMT', 'CMT', 'DDS', 'CMT', 'CMT', 'CMT', 'CMT', 'CMT', 'CMT', 'CMT', 'CMT', 'CMT', 'CMT', 'VTS', 'CMT', 'CMT', 'CMT', 'CMT', 'CMT', 'CMT', 'CMT', 'CMT', 'CMT', 'CMT', 'CMT', 'CMT', 'VTS', 'CMT', 'CMT', 'CMT', 'CMT', 'CMT', 'CMT', 'CMT', 'DDS', 'CMT', 'CMT', 'CMT', 'CMT', 'CMT', 'CMT', 'CMT', 'CMT', 'CMT', 'CMT', 'CMT', 'CMT', 'CMT', 'VTS', 'CMT', 'CMT', 'CMT', 'CMT', 'CMT', 'CMT', 'DDS', 'CMT', 'VTS', 'CMT', 'CMT', 'CMT', 'CMT', 'CMT', 'CMT', 'CMT', 'CMT', 'CMT', 'CMT', 'CMT', 'CMT', 'CMT', 'CMT', 'CMT', 'CMT', 'VTS', 'CMT', 'VTS', 'VTS', 'VTS', 'VTS', 'VTS', 'VTS', 'VTS', 'VTS', 'VTS', 'VTS', 'VTS', 'VTS', 'VTS', 'VTS', 'VTS', 'VTS', 'CMT', 'CMT', 'CMT', 'CMT', 'CMT', 'CMT', 'CMT', 'CMT', 'DDS', 'CMT', 'CMT', 'CMT', 'CMT', 'VTS', 'DDS', 'CMT', 'CMT', 'CMT', 'CMT', 'CMT', 'CMT', 'CMT', 'VTS', 'VTS', 'CMT', 'VTS', 'CMT', 'CMT', 'CMT', 'CMT', 'CMT', 'CMT', 'CMT', 'VTS', 'CMT', 'CMT', 'CMT', 'VTS', 'CMT', 'CMT', 'CMT', 'CMT', 'CMT', 'CMT', 'CMT', 'CMT', 'CMT', 'CMT', 'CMT', 'CMT', 'DDS', 'CMT', 'CMT', 'CMT', 'CMT', 'CMT', 'CMT', 'DDS', 'CMT', 'CMT', 'CMT', 'CMT', 'CMT', 'CMT', 'VTS', 'DDS', 'CMT', 'CMT', 'VTS', 'CMT', 'CMT', 'CMT', 'DDS', 'DDS', 'DDS', 'CMT', 'CMT', 'CMT', 'DDS', 'CMT', 'CMT', 'CMT', 'CMT', 'CMT', 'DDS', 'CMT', 'CMT', 'VTS', 'VTS', 'CMT', 'CMT', 'CMT', 'CMT', 'CMT', 'CMT', 'CMT', 'CMT', 'VTS', 'CMT', 'VTS', 'CMT', 'DDS', 'CMT', 'DDS', 'CMT', 'CMT', 'VTS', 'CMT', 'CMT', 'CMT', 'CMT', 'VTS', 'DDS', 'VTS', 'VTS', 'CMT', 'CMT', 'CMT', 'VTS', 'CMT', 'VTS', 'DDS', 'VTS', 'DDS', 'CMT', 'CMT', 'CMT', 'CMT', 'VTS', 'VTS', 'VTS', 'VTS', 'VTS', 'VTS', 'VTS', 'VTS', 'VTS', 'VTS', 'VTS', 'VTS', 'VTS', 'VTS', 'VTS', 'VTS', 'VTS', 'VTS', 'CMT', 'VTS', 'VTS', 'VTS', 'VTS', 'VTS', 'VTS', 'VTS', 'VTS', 'VTS', 'VTS', 'VTS', 'CMT', 'VTS', 'CMT', 'CMT', 'CMT', 'CMT', 'DDS', 'VTS', 'VTS', 'VTS', 'CMT', 'CMT', 'CMT', 'DDS', 'CMT', 'CMT', 'CMT', 'CMT', 'CMT', 'CMT', 'DDS', 'CMT', 'DDS', 'CMT', 'CMT', 'CMT', 'CMT', 'CMT', 'VTS', 'CMT', 'CMT', 'CMT', 'DDS', 'CMT', 'DDS', 'DDS', 'CMT', 'CMT', 'CMT', 'CMT', 'CMT', 'CMT', 'CMT', 'CMT', 'CMT', 'CMT', 'DDS', 'CMT', 'CMT', 'CMT', 'CMT', 'VTS', 'CMT', 'CMT', 'CMT', 'CMT', 'CMT', 'DDS', 'CMT', 'VTS', 'CMT', 'DDS', 'CMT', 'CMT', 'CMT', 'CMT', 'CMT', 'VTS', 'CMT', 'CMT', 'CMT', 'CMT', 'CMT', 'CMT', 'CMT', 'CMT', 'VTS', 'CMT', 'CMT', 'DDS', 'CMT', 'CMT', 'CMT', 'CMT', 'CMT', 'CMT', 'CMT', 'CMT', 'DDS', 'VTS', 'CMT', 'CMT', 'CMT', 'CMT', 'CMT', 'CMT', 'CMT', 'CMT', 'CMT', 'DDS', 'CMT', 'CMT', 'CMT', 'CMT', 'CMT', 'CMT', 'CMT', 'CMT', 'CMT', 'CMT', 'DDS', 'CMT', 'CMT', 'DDS', 'CMT', 'CMT', 'VTS', 'CMT', 'CMT', 'CMT', 'CMT', 'CMT', 'VTS', 'CMT', 'CMT', 'CMT', 'VTS', 'DDS', 'CMT', 'CMT', 'CMT', 'CMT', 'DDS', 'CMT', 'DDS', 'CMT', 'VTS', 'CMT', 'CMT', 'CMT', 'CMT', 'CMT', 'VTS', 'CMT', 'VTS', 'VTS', 'VTS', 'VTS', 'VTS', 'VTS', 'VTS', 'VTS', 'VTS', 'VTS', 'VTS', 'VTS', 'VTS', 'VTS', 'VTS', 'CMT', 'VTS', 'VTS', 'VTS', 'VTS', 'VTS', 'VTS', 'VTS', 'VTS', 'VTS', 'VTS', 'VTS', 'VTS', 'VTS', 'CMT', 'VTS', 'CMT', 'VTS', 'CMT', 'VTS', 'VTS', 'VTS', 'VTS', 'VTS', 'VTS', 'VTS', 'VTS', 'VTS', 'VTS', 'VTS', 'VTS', 'VTS', 'VTS', 'VTS', 'CMT', 'VTS', 'VTS', 'VTS', 'CMT', 'CMT', 'CMT', 'CMT', 'CMT', 'DDS', 'DDS', 'CMT', 'CMT', 'VTS', 'VTS', 'CMT', 'CMT', 'DDS', 'CMT', 'CMT', 'CMT', 'CMT', 'CMT', 'CMT', 'DDS', 'CMT', 'VTS', 'CMT', 'CMT', 'CMT', 'CMT', 'CMT', 'DDS', 'CMT', 'CMT', 'CMT', 'CMT', 'CMT', 'CMT', 'CMT', 'CMT', 'DDS', 'CMT', 'CMT', 'CMT', 'CMT', 'CMT', 'CMT', 'CMT', 'CMT', 'CMT', 'CMT', 'CMT', 'DDS', 'CMT', 'CMT', 'CMT', 'CMT', 'CMT', 'CMT', 'VTS', 'CMT', 'CMT', 'CMT', 'CMT', 'VTS', 'CMT', 'CMT', 'CMT', 'CMT', 'CMT', 'CMT', 'CMT', 'CMT', 'VTS', 'CMT', 'CMT', 'VTS', 'CMT', 'CMT', 'CMT', 'CMT', 'CMT', 'CMT', 'CMT', 'CMT', 'CMT', 'CMT', 'CMT', 'CMT', 'CMT', 'DDS', 'CMT', 'CMT', 'CMT', 'CMT', 'CMT', 'CMT', 'CMT', 'CMT', 'VTS', 'CMT', 'DDS', 'CMT', 'CMT', 'CMT', 'CMT', 'DDS', 'CMT', 'CMT', 'CMT', 'CMT', 'CMT', 'CMT', 'CMT', 'DDS', 'CMT', 'CMT', 'DDS', 'CMT', 'CMT', 'CMT', 'CMT', 'CMT', 'CMT', 'CMT', 'CMT', 'CMT', 'CMT', 'CMT', 'CMT', 'CMT', 'CMT', 'CMT', 'CMT', 'CMT', 'CMT', 'CMT', 'CMT', 'CMT', 'VTS', 'CMT', 'VTS', 'CMT', 'CMT', 'CMT', 'CMT', 'CMT', 'VTS', 'CMT', 'CMT', 'CMT', 'VTS', 'CMT', 'VTS', 'CMT', 'CMT', 'CMT', 'DDS', 'CMT', 'CMT', 'CMT', 'CMT', 'CMT', 'CMT', 'CMT', 'CMT', 'CMT', 'CMT', 'CMT', 'DDS', 'CMT', 'CMT', 'CMT', 'DDS', 'CMT', 'CMT', 'CMT', 'CMT', 'VTS', 'VTS', 'CMT', 'CMT', 'CMT', 'CMT', 'CMT', 'CMT', 'CMT', 'CMT', 'CMT', 'VTS', 'VTS', 'VTS', 'VTS', 'VTS', 'DDS', 'VTS', 'VTS', 'VTS', 'VTS', 'VTS', 'VTS', 'VTS', 'VTS', 'VTS', 'VTS', 'VTS', 'VTS', 'VTS', 'VTS', 'VTS', 'VTS', 'VTS', 'VTS', 'VTS', 'VTS', 'VTS', 'VTS', 'VTS', 'VTS', 'VTS', 'VTS', 'VTS', 'VTS', 'VTS', 'VTS', 'VTS', 'VTS', 'VTS', 'VTS', 'VTS', 'VTS', 'VTS', 'VTS', 'VTS', 'VTS', 'VTS', 'VTS', 'VTS', 'VTS', 'VTS', 'VTS', 'VTS', 'CMT', 'CMT', 'VTS', 'DDS', 'VTS', 'CMT', 'CMT', 'CMT', 'DDS', 'CMT', 'CMT', 'DDS', 'CMT', 'VTS', 'CMT', 'CMT', 'CMT', 'CMT', 'DDS', 'VTS', 'CMT', 'DDS', 'VTS', 'VTS', 'VTS', 'CMT', 'CMT', 'CMT', 'VTS', 'VTS', 'CMT', 'CMT', 'CMT', 'VTS', 'CMT', 'CMT', 'VTS', 'CMT', 'CMT', 'CMT', 'CMT', 'VTS', 'CMT', 'CMT', 'VTS', 'CMT', 'VTS', 'CMT', 'CMT', 'CMT', 'CMT', 'DDS', 'CMT', 'CMT', 'CMT', 'CMT', 'CMT', 'CMT', 'CMT', 'CMT', 'CMT', 'CMT', 'CMT', 'CMT', 'CMT', 'CMT', 'CMT', 'CMT', 'CMT', 'CMT', 'CMT', 'VTS', 'CMT', 'CMT', 'CMT', 'DDS', 'VTS', 'CMT', 'CMT', 'CMT', 'CMT', 'CMT', 'CMT', 'CMT', 'CMT', 'CMT', 'CMT', 'DDS', 'VTS', 'CMT', 'CMT', 'CMT', 'CMT', 'VTS', 'CMT', 'CMT', 'CMT', 'VTS', 'CMT', 'CMT', 'CMT', 'VTS', 'CMT', 'CMT', 'DDS', 'CMT', 'CMT', 'VTS', 'CMT', 'CMT', 'CMT', 'CMT', 'CMT', 'CMT', 'CMT', 'DDS', 'DDS', 'CMT', 'CMT', 'DDS', 'VTS', 'CMT', 'VTS', 'CMT', 'CMT', 'CMT', 'CMT', 'CMT', 'DDS', 'CMT', 'DDS', 'DDS', 'CMT', 'CMT', 'CMT', 'CMT', 'CMT', 'CMT', 'CMT', 'CMT', 'CMT', 'CMT', 'CMT', 'CMT', 'VTS', 'CMT', 'DDS', 'CMT', 'CMT', 'CMT', 'VTS', 'CMT', 'CMT', 'CMT', 'VTS', 'CMT', 'CMT', 'CMT', 'CMT', 'CMT', 'DDS', 'CMT', 'CMT', 'CMT', 'CMT', 'VTS', 'CMT', 'CMT', 'CMT', 'CMT', 'DDS', 'CMT', 'CMT', 'CMT', 'CMT', 'CMT', 'VTS', 'CMT', 'CMT', 'CMT', 'CMT', 'CMT', 'CMT', 'CMT', 'DDS', 'CMT', 'CMT', 'CMT', 'CMT', 'CMT', 'CMT', 'CMT', 'CMT', 'CMT', 'CMT', 'CMT', 'DDS', 'CMT', 'CMT', 'CMT', 'DDS', 'CMT', 'CMT', 'VTS', 'VTS', 'VTS', 'VTS', 'VTS', 'VTS', 'VTS', 'VTS', 'CMT', 'VTS', 'VTS', 'VTS', 'VTS', 'VTS', 'VTS', 'VTS', 'VTS', 'VTS', 'VTS', 'VTS', 'VTS', 'VTS', 'VTS', 'VTS', 'VTS', 'VTS', 'VTS', 'VTS', 'VTS', 'VTS', 'VTS', 'CMT', 'VTS', 'VTS', 'VTS', 'VTS', 'VTS', 'VTS', 'VTS', 'VTS', 'VTS', 'VTS', 'VTS', 'VTS', 'VTS', 'VTS', 'VTS', 'VTS', 'DDS', 'CMT', 'VTS', 'VTS', 'VTS', 'VTS', 'VTS', 'VTS', 'VTS', 'VTS', 'VTS', 'VTS', 'CMT', 'CMT', 'VTS', 'VTS', 'CMT', 'CMT', 'CMT', 'CMT', 'CMT', 'DDS', 'CMT', 'CMT', 'CMT', 'CMT', 'DDS', 'CMT', 'CMT', 'CMT', 'CMT', 'CMT', 'CMT', 'CMT', 'CMT', 'VTS', 'CMT', 'CMT', 'CMT', 'CMT', 'CMT', 'CMT', 'CMT', 'CMT', 'CMT', 'CMT', 'CMT', 'CMT', 'DDS', 'VTS', 'CMT', 'CMT', 'VTS', 'CMT', 'VTS', 'CMT', 'VTS', 'DDS', 'CMT', 'CMT', 'CMT', 'DDS', 'CMT', 'DDS', 'CMT', 'CMT', 'DDS', 'CMT', 'VTS', 'CMT', 'CMT', 'CMT', 'VTS', 'CMT', 'CMT', 'CMT', 'CMT', 'VTS', 'CMT', 'CMT', 'CMT', 'CMT', 'CMT', 'CMT', 'CMT', 'CMT', 'CMT', 'CMT', 'CMT', 'CMT', 'CMT', 'DDS', 'CMT', 'VTS', 'CMT', 'VTS', 'CMT', 'CMT', 'CMT', 'CMT', 'CMT', 'CMT', 'VTS', 'VTS', 'CMT', 'CMT', 'VTS', 'CMT', 'CMT', 'CMT', 'CMT', 'CMT', 'CMT', 'VTS', 'CMT', 'CMT', 'CMT', 'CMT', 'CMT', 'CMT', 'VTS', 'DDS', 'CMT', 'CMT', 'DDS', 'CMT', 'CMT', 'CMT', 'VTS', 'CMT', 'CMT', 'CMT', 'DDS', 'CMT', 'DDS', 'CMT', 'CMT', 'CMT', 'CMT', 'CMT', 'CMT', 'DDS', 'VTS', 'CMT', 'DDS', 'CMT', 'CMT', 'CMT', 'VTS', 'DDS', 'CMT', 'VTS', 'CMT', 'CMT', 'VTS', 'CMT', 'CMT', 'CMT', 'CMT', 'CMT', 'CMT', 'CMT', 'CMT', 'CMT', 'DDS', 'DDS', 'CMT', 'DDS', 'CMT', 'CMT', 'CMT', 'DDS', 'VTS', 'DDS', 'CMT', 'CMT', 'VTS', 'CMT', 'VTS', 'CMT', 'CMT', 'VTS', 'VTS', 'CMT', 'CMT', 'CMT', 'VTS', 'CMT', 'CMT', 'DDS', 'CMT', 'VTS', 'CMT', 'CMT', 'CMT', 'CMT', 'CMT', 'VTS', 'CMT', 'CMT', 'CMT', 'CMT', 'CMT', 'VTS', 'CMT', 'CMT', 'CMT', 'CMT', 'DDS', 'CMT', 'VTS', 'CMT', 'CMT', 'VTS', 'CMT', 'DDS', 'CMT', 'CMT', 'VTS', 'VTS', 'VTS', 'VTS', 'VTS', 'VTS', 'VTS', 'VTS', 'VTS', 'VTS', 'VTS', 'VTS', 'VTS', 'VTS', 'VTS', 'VTS', 'VTS', 'VTS', 'VTS', 'VTS', 'VTS', 'VTS', 'VTS', 'VTS', 'VTS', 'VTS', 'VTS', 'VTS', 'VTS', 'VTS', 'VTS', 'VTS', 'VTS', 'VTS', 'VTS', 'VTS', 'VTS', 'VTS', 'VTS', 'VTS', 'VTS', 'VTS', 'VTS', 'VTS', 'VTS', 'VTS', 'VTS', 'VTS', 'VTS', 'VTS', 'VTS', 'VTS', 'VTS', 'VTS', 'VTS', 'VTS', 'VTS', 'VTS', 'VTS', 'VTS', 'VTS', 'VTS', 'VTS', 'VTS', 'VTS', 'VTS', 'VTS', 'VTS', 'VTS', 'CMT', 'CMT', 'CMT', 'DDS', 'CMT', 'CMT', 'CMT', 'VTS', 'CMT', 'CMT', 'CMT', 'CMT', 'CMT', 'CMT', 'CMT', 'CMT', 'CMT', 'CMT', 'CMT', 'VTS', 'DDS', 'CMT', 'CMT', 'CMT', 'CMT', 'CMT', 'CMT', 'CMT', 'VTS', 'CMT', 'CMT', 'VTS', 'CMT', 'CMT', 'CMT', 'VTS', 'DDS', 'CMT', 'VTS', 'VTS', 'CMT', 'CMT', 'DDS', 'CMT', 'CMT', 'CMT', 'CMT', 'VTS', 'VTS', 'CMT', 'CMT', 'DDS', 'CMT', 'CMT', 'CMT', 'CMT', 'CMT', 'CMT', 'CMT', 'CMT', 'VTS', 'VTS', 'CMT', 'CMT', 'VTS', 'CMT', 'CMT', 'CMT', 'VTS', 'DDS', 'CMT', 'CMT', 'CMT', 'CMT', 'CMT', 'CMT', 'VTS', 'CMT', 'DDS', 'CMT', 'DDS', 'CMT', 'CMT', 'CMT', 'CMT', 'CMT', 'DDS', 'CMT', 'VTS', 'CMT', 'CMT', 'CMT', 'VTS', 'CMT', 'CMT', 'CMT', 'CMT', 'CMT', 'VTS', 'CMT', 'CMT', 'CMT', 'CMT', 'CMT', 'CMT', 'CMT', 'CMT', 'CMT', 'CMT', 'CMT', 'DDS', 'CMT', 'CMT', 'CMT', 'CMT', 'CMT', 'CMT', 'VTS', 'CMT', 'CMT', 'VTS', 'VTS', 'DDS', 'CMT', 'CMT', 'VTS', 'VTS', 'CMT', 'CMT', 'VTS', 'VTS', 'VTS', 'CMT', 'CMT', 'DDS', 'CMT', 'VTS', 'VTS', 'CMT', 'CMT', 'CMT', 'VTS', 'CMT', 'CMT', 'CMT', 'VTS', 'CMT', 'CMT', 'CMT', 'CMT', 'CMT', 'CMT', 'VTS', 'CMT', 'CMT', 'CMT', 'CMT', 'CMT', 'CMT', 'VTS', 'VTS', 'CMT', 'CMT', 'CMT', 'VTS', 'VTS', 'DDS', 'CMT', 'CMT', 'CMT', 'DDS', 'VTS', 'CMT', 'CMT', 'CMT', 'VTS', 'VTS', 'CMT', 'VTS', 'VTS', 'DDS', 'DDS', 'VTS', 'CMT', 'CMT', 'CMT', 'CMT', 'CMT', 'CMT', 'CMT', 'CMT', 'CMT', 'CMT', 'VTS', 'CMT', 'CMT', 'VTS', 'DDS', 'CMT', 'CMT', 'CMT', 'CMT', 'DDS', 'DDS', 'CMT', 'VTS', 'CMT', 'CMT', 'CMT', 'CMT', 'CMT', 'CMT', 'VTS', 'CMT', 'CMT', 'VTS', 'CMT', 'CMT', 'CMT', 'DDS', 'DDS', 'CMT', 'CMT', 'CMT', 'CMT', 'DDS', 'CMT', 'CMT', 'CMT', 'CMT', 'CMT', 'DDS', 'CMT', 'CMT', 'CMT', 'CMT', 'CMT', 'CMT', 'CMT', 'VTS', 'CMT', 'CMT', 'CMT', 'VTS', 'DDS', 'CMT', 'CMT', 'CMT', 'CMT', 'CMT', 'VTS', 'DDS', 'CMT', 'VTS', 'CMT', 'CMT', 'CMT', 'CMT', 'DDS', 'CMT', 'VTS', 'VTS', 'VTS', 'VTS', 'VTS', 'VTS', 'VTS', 'VTS', 'VTS', 'VTS', 'VTS', 'VTS', 'VTS', 'VTS', 'VTS', 'VTS', 'VTS', 'VTS', 'VTS', 'VTS', 'VTS', 'VTS', 'VTS', 'VTS', 'VTS', 'VTS', 'VTS', 'VTS', 'VTS', 'VTS', 'VTS', 'VTS', 'VTS', 'VTS', 'VTS', 'VTS', 'VTS', 'VTS', 'VTS', 'VTS', 'VTS', 'CMT', 'VTS', 'VTS', 'VTS', 'VTS', 'VTS', 'VTS', 'VTS', 'VTS', 'VTS', 'VTS', 'VTS', 'VTS', 'VTS', 'VTS', 'VTS', 'VTS', 'VTS', 'VTS', 'VTS', 'VTS', 'VTS', 'VTS', 'VTS', 'VTS', 'VTS', 'VTS', 'VTS', 'VTS', 'VTS', 'VTS', 'VTS', 'VTS', 'VTS', 'VTS', 'VTS', 'VTS', 'VTS', 'VTS', 'VTS', 'VTS', 'VTS', 'VTS', 'VTS', 'VTS', 'VTS', 'VTS', 'VTS', 'VTS', 'VTS', 'VTS', 'VTS', 'DDS', 'VTS', 'VTS', 'VTS', 'VTS', 'VTS', 'VTS', 'VTS', 'VTS', 'CMT', 'CMT', 'DDS', 'DDS', 'CMT', 'CMT', 'VTS', 'CMT', 'CMT', 'VTS', 'CMT', 'CMT', 'CMT', 'VTS', 'CMT', 'CMT', 'CMT', 'CMT', 'CMT', 'CMT', 'CMT', 'CMT', 'VTS', 'CMT', 'CMT', 'CMT', 'CMT', 'CMT', 'VTS', 'CMT', 'CMT', 'CMT', 'VTS', 'CMT', 'CMT', 'CMT', 'CMT', 'VTS', 'VTS', 'CMT', 'CMT', 'CMT', 'CMT', 'VTS', 'VTS', 'CMT', 'CMT', 'CMT', 'VTS', 'CMT', 'CMT', 'VTS', 'CMT', 'CMT', 'DDS', 'VTS', 'CMT', 'VTS', 'DDS', 'CMT', 'DDS', 'CMT', 'VTS', 'CMT', 'VTS', 'CMT', 'CMT', 'DDS', 'CMT', 'CMT', 'CMT', 'VTS', 'DDS', 'DDS', 'DDS', 'CMT', 'DDS', 'CMT', 'CMT', 'DDS', 'CMT', 'CMT', 'VTS', 'CMT', 'CMT', 'CMT', 'CMT', 'DDS', 'CMT', 'CMT', 'VTS', 'CMT', 'CMT', 'CMT', 'CMT', 'CMT', 'VTS', 'CMT', 'CMT', 'CMT', 'CMT', 'CMT', 'CMT', 'CMT', 'CMT', 'CMT', 'CMT', 'DDS', 'CMT', 'CMT', 'CMT', 'CMT', 'DDS', 'CMT', 'DDS', 'CMT', 'CMT', 'CMT', 'CMT', 'CMT', 'CMT', 'CMT', 'CMT', 'CMT', 'CMT', 'CMT', 'CMT', 'CMT', 'CMT', 'VTS', 'CMT', 'CMT', 'CMT', 'VTS', 'DDS', 'DDS', 'CMT', 'CMT', 'CMT', 'CMT', 'CMT', 'CMT', 'CMT', 'CMT', 'VTS', 'VTS', 'CMT', 'CMT', 'CMT', 'CMT', 'CMT', 'CMT', 'CMT', 'VTS', 'DDS', 'VTS', 'CMT', 'CMT', 'CMT', 'CMT', 'CMT', 'CMT', 'CMT', 'CMT', 'CMT', 'DDS', 'CMT', 'DDS', 'VTS', 'CMT', 'CMT', 'CMT', 'CMT', 'CMT', 'CMT', 'CMT', 'CMT', 'CMT', 'CMT', 'DDS', 'CMT', 'CMT', 'CMT', 'CMT', 'CMT', 'CMT', 'VTS', 'DDS', 'VTS', 'CMT', 'CMT', 'CMT', 'VTS', 'CMT', 'CMT', 'DDS', 'CMT', 'VTS', 'CMT', 'CMT', 'DDS', 'CMT', 'CMT', 'CMT', 'CMT', 'CMT', 'VTS', 'CMT', 'CMT', 'CMT', 'VTS', 'CMT', 'VTS', 'CMT', 'CMT', 'VTS', 'CMT', 'CMT', 'CMT', 'CMT', 'CMT', 'VTS', 'CMT', 'CMT', 'CMT', 'VTS', 'VTS', 'CMT', 'CMT', 'CMT', 'VTS', 'CMT', 'VTS', 'VTS', 'VTS', 'CMT', 'CMT', 'CMT', 'CMT', 'CMT', 'CMT', 'CMT', 'CMT', 'VTS', 'VTS', 'VTS', 'VTS', 'VTS', 'VTS', 'VTS', 'VTS', 'VTS', 'VTS', 'VTS', 'VTS', 'VTS', 'VTS', 'VTS', 'VTS', 'VTS', 'VTS', 'VTS', 'VTS', 'VTS', 'VTS', 'VTS', 'VTS', 'VTS', 'VTS', 'VTS', 'VTS', 'VTS', 'VTS', 'VTS', 'VTS', 'VTS', 'VTS', 'VTS', 'VTS', 'VTS', 'VTS', 'VTS', 'VTS', 'VTS', 'VTS', 'VTS', 'VTS', 'VTS', 'VTS', 'VTS', 'VTS', 'VTS', 'VTS', 'VTS', 'VTS', 'VTS', 'VTS', 'VTS', 'VTS', 'VTS', 'VTS', 'VTS', 'VTS', 'VTS', 'VTS', 'VTS', 'VTS', 'VTS', 'VTS', 'VTS', 'VTS', 'VTS', 'VTS', 'VTS', 'VTS', 'VTS', 'VTS', 'CMT', 'VTS', 'DDS', 'DDS', 'CMT', 'CMT', 'VTS', 'CMT', 'CMT', 'CMT', 'CMT', 'DDS', 'CMT', 'CMT', 'CMT', 'CMT', 'CMT', 'CMT', 'CMT', 'CMT', 'CMT', 'CMT', 'CMT', 'CMT', 'VTS', 'CMT', 'CMT', 'CMT', 'CMT', 'VTS', 'CMT', 'CMT', 'CMT', 'CMT', 'CMT', 'CMT', 'CMT', 'CMT', 'CMT', 'VTS', 'CMT', 'CMT', 'CMT', 'CMT', 'CMT', 'CMT', 'VTS', 'CMT', 'CMT', 'CMT', 'CMT', 'CMT', 'VTS', 'CMT', 'VTS', 'DDS', 'CMT', 'DDS', 'VTS', 'CMT', 'VTS', 'CMT', 'VTS', 'DDS', 'CMT', 'VTS', 'CMT', 'VTS', 'DDS', 'VTS', 'CMT', 'CMT', 'DDS', 'CMT', 'CMT', 'VTS', 'CMT', 'VTS', 'CMT', 'VTS', 'CMT', 'VTS', 'CMT', 'CMT', 'CMT', 'CMT', 'CMT', 'CMT', 'CMT', 'CMT', 'DDS', 'CMT', 'CMT', 'VTS', 'VTS', 'CMT', 'DDS', 'CMT', 'CMT', 'CMT', 'DDS', 'CMT', 'VTS', 'DDS', 'CMT', 'VTS', 'CMT', 'CMT', 'CMT', 'VTS', 'CMT', 'DDS', 'CMT', 'CMT', 'VTS', 'VTS', 'CMT', 'VTS', 'DDS', 'CMT', 'CMT', 'CMT', 'CMT', 'CMT', 'CMT', 'CMT', 'VTS', 'VTS', 'CMT', 'VTS', 'CMT', 'CMT', 'CMT', 'VTS', 'CMT', 'CMT', 'CMT', 'CMT', 'VTS', 'CMT', 'CMT', 'CMT', 'CMT', 'CMT', 'CMT', 'VTS', 'VTS', 'CMT', 'CMT', 'CMT', 'DDS', 'VTS', 'CMT', 'CMT', 'CMT', 'CMT', 'CMT', 'CMT', 'VTS', 'VTS', 'CMT', 'VTS', 'VTS', 'VTS', 'CMT', 'VTS', 'CMT', 'CMT', 'CMT', 'CMT', 'VTS', 'CMT', 'CMT', 'CMT', 'CMT', 'CMT', 'CMT', 'CMT', 'CMT', 'CMT', 'CMT', 'DDS', 'CMT', 'CMT', 'CMT', 'CMT', 'CMT', 'VTS', 'CMT', 'CMT', 'VTS', 'CMT', 'CMT', 'CMT', 'VTS', 'CMT', 'VTS', 'CMT', 'CMT', 'CMT', 'CMT', 'CMT', 'CMT', 'CMT', 'CMT', 'CMT', 'CMT', 'CMT', 'VTS', 'CMT', 'DDS', 'VTS', 'CMT', 'CMT', 'VTS', 'CMT', 'CMT', 'VTS', 'VTS', 'CMT', 'VTS', 'DDS', 'VTS', 'CMT', 'VTS', 'CMT', 'CMT', 'VTS', 'CMT', 'CMT', 'CMT', 'VTS', 'CMT', 'CMT', 'VTS', 'DDS', 'CMT', 'CMT', 'CMT', 'CMT', 'CMT', 'CMT', 'VTS', 'CMT', 'CMT', 'CMT', 'CMT', 'CMT', 'VTS', 'CMT', 'CMT', 'CMT', 'CMT', 'CMT', 'VTS', 'VTS', 'CMT', 'VTS', 'VTS', 'VTS', 'VTS', 'VTS', 'VTS', 'VTS', 'VTS', 'VTS', 'VTS', 'VTS', 'VTS', 'VTS', 'VTS', 'VTS', 'VTS', 'VTS', 'VTS', 'VTS', 'VTS', 'VTS', 'VTS', 'VTS', 'VTS', 'VTS', 'VTS', 'VTS', 'VTS', 'VTS', 'VTS', 'VTS', 'VTS', 'VTS', 'VTS', 'VTS', 'VTS', 'VTS', 'VTS', 'VTS', 'VTS', 'VTS', 'VTS', 'VTS', 'VTS', 'VTS', 'VTS', 'VTS', 'VTS', 'VTS', 'VTS', 'VTS', 'VTS', 'VTS', 'VTS', 'VTS', 'DDS', 'VTS', 'VTS', 'VTS', 'VTS', 'VTS', 'VTS', 'VTS', 'VTS', 'VTS', 'VTS', 'VTS', 'VTS', 'VTS', 'VTS', 'VTS', 'VTS', 'VTS', 'VTS', 'VTS', 'VTS', 'VTS', 'VTS', 'VTS', 'VTS', 'VTS', 'VTS', 'VTS', 'VTS', 'VTS', 'VTS', 'VTS', 'VTS', 'VTS', 'VTS', 'VTS', 'VTS', 'VTS', 'VTS', 'VTS', 'VTS', 'VTS', 'VTS', 'VTS', 'VTS', 'VTS', 'VTS', 'VTS', 'VTS', 'VTS', 'VTS', 'VTS', 'VTS', 'VTS', 'VTS', 'VTS', 'CMT', 'CMT', 'CMT', 'CMT', 'VTS', 'VTS', 'CMT', 'CMT', 'DDS', 'CMT', 'CMT', 'CMT', 'DDS', 'VTS', 'DDS', 'DDS', 'CMT', 'CMT', 'VTS', 'CMT', 'CMT', 'VTS', 'CMT', 'CMT', 'CMT', 'CMT', 'VTS', 'VTS', 'VTS', 'CMT', 'VTS', 'CMT', 'CMT', 'VTS', 'VTS', 'CMT', 'CMT', 'CMT', 'DDS', 'CMT', 'CMT', 'DDS', 'CMT', 'VTS', 'CMT', 'CMT', 'VTS', 'CMT', 'VTS', 'CMT', 'CMT', 'VTS', 'CMT', 'CMT', 'CMT', 'VTS', 'CMT', 'CMT', 'VTS', 'DDS', 'CMT', 'CMT', 'VTS', 'CMT', 'CMT', 'CMT', 'CMT', 'DDS', 'VTS', 'VTS', 'CMT', 'VTS', 'CMT', 'CMT', 'CMT', 'DDS', 'DDS', 'CMT', 'VTS', 'CMT', 'CMT', 'DDS', 'VTS', 'CMT', 'CMT', 'VTS', 'VTS', 'VTS', 'VTS', 'CMT', 'CMT', 'CMT', 'VTS', 'CMT', 'CMT', 'CMT', 'CMT', 'CMT', 'CMT', 'VTS', 'CMT', 'CMT', 'VTS', 'CMT', 'CMT', 'VTS', 'CMT', 'CMT', 'CMT', 'VTS', 'CMT', 'CMT', 'CMT', 'CMT', 'CMT', 'CMT', 'CMT', 'CMT', 'VTS', 'CMT', 'CMT', 'CMT', 'CMT', 'CMT', 'VTS', 'VTS', 'CMT', 'VTS', 'CMT', 'VTS', 'VTS', 'CMT', 'CMT', 'CMT', 'CMT', 'CMT', 'CMT', 'CMT', 'CMT', 'CMT', 'DDS', 'DDS', 'VTS', 'CMT', 'CMT', 'CMT', 'CMT', 'CMT', 'VTS', 'CMT', 'VTS', 'DDS', 'CMT', 'CMT', 'CMT', 'CMT', 'CMT', 'CMT', 'VTS', 'CMT', 'CMT', 'CMT', 'VTS', 'CMT', 'CMT', 'DDS', 'VTS', 'CMT', 'VTS', 'VTS', 'DDS', 'VTS', 'CMT', 'CMT', 'CMT', 'CMT', 'CMT', 'CMT', 'CMT', 'VTS', 'CMT', 'CMT', 'CMT', 'VTS', 'DDS', 'CMT', 'CMT', 'VTS', 'CMT', 'CMT', 'CMT', 'VTS', 'DDS', 'VTS', 'CMT', 'CMT', 'VTS', 'CMT', 'VTS', 'VTS', 'CMT', 'VTS', 'CMT', 'CMT', 'VTS', 'CMT', 'VTS', 'CMT', 'VTS', 'CMT', 'CMT', 'CMT', 'VTS', 'VTS', 'VTS', 'CMT', 'VTS', 'CMT', 'CMT', 'CMT', 'CMT', 'CMT', 'CMT', 'CMT', 'CMT', 'CMT', 'CMT', 'CMT', 'CMT', 'VTS', 'CMT', 'CMT', 'CMT', 'VTS', 'VTS', 'DDS', 'CMT', 'CMT', 'CMT', 'CMT', 'VTS', 'CMT', 'CMT', 'VTS', 'CMT', 'CMT', 'CMT', 'DDS', 'CMT', 'CMT', 'CMT', 'DDS', 'CMT', 'CMT', 'VTS', 'CMT', 'CMT', 'DDS', 'CMT', 'DDS', 'CMT', 'VTS', 'CMT', 'CMT', 'DDS', 'CMT', 'CMT', 'CMT', 'VTS', 'CMT', 'CMT', 'CMT', 'CMT', 'CMT', 'CMT', 'VTS', 'VTS', 'VTS', 'VTS', 'VTS']\n"
     ]
    }
   ],
   "source": [
    "print(taxi['vendor_id'])\n",
    "print(list(taxi['vendor_id']))"
   ]
  },
  {
   "cell_type": "code",
   "execution_count": 25,
   "metadata": {},
   "outputs": [
    {
     "name": "stdout",
     "output_type": "stream",
     "text": [
      "Average passenger count: 1.7942647549183062\n",
      "Average trip time: 12.225108369456487\n",
      "Average trip distance: 3.0678859619873293\n"
     ]
    }
   ],
   "source": [
    "# compute the average values\n",
    "avg_passenger_count = taxi['passenger_count'].mean()\n",
    "avg_trip_time = taxi['trip_time_in_secs'].mean()\n",
    "avg_trip_distance = taxi['trip_distance'].mean()\n",
    "\n",
    "print('Average passenger count:', avg_passenger_count)\n",
    "print('Average trip time:', avg_trip_time)\n",
    "print('Average trip distance:', avg_trip_distance)"
   ]
  },
  {
   "cell_type": "markdown",
   "metadata": {},
   "source": [
    "#### Create two histograms:\n",
    "- One showing the distributation of trip time in seconds\n",
    "- The other showing the distribution of trip distance. \n",
    "\n",
    "Make sure you label the axes and give the histograms titles. This may also be accomplished using functionality within the Pandas package (examples can be found [here](https://sparkbyexamples.com/pandas/pandas-plot-a-histogram/)), but it can also be done using ```matplotlib.pyplot```, as you have seen before."
   ]
  },
  {
   "cell_type": "code",
   "execution_count": 26,
   "metadata": {},
   "outputs": [
    {
     "data": {
      "image/png": "[encoded data removed]",
      "text/plain": [
       "<Figure size 1200x500 with 2 Axes>"
      ]
     },
     "metadata": {},
     "output_type": "display_data"
    }
   ],
   "source": [
    "import matplotlib.pyplot as plt\n",
    "df = pd.DataFrame(taxi)\n",
    "\n",
    "# Plotting the histogram for trip time in seconds\n",
    "plt.figure(figsize=(12, 5))\n",
    "\n",
    "plt.subplot(1, 2, 1)\n",
    "plt.hist(df['trip_time_in_secs'], bins=10, color='blue', edgecolor='black')\n",
    "plt.title('Distribution of Trip Time in Seconds')\n",
    "plt.xlabel('Trip Time (seconds)')\n",
    "plt.ylabel('Frequency')\n",
    "\n",
    "# Plotting the histogram for trip distance\n",
    "plt.subplot(1, 2, 2)\n",
    "plt.hist(df['trip_distance'], bins=10, color='green', edgecolor='black')\n",
    "plt.title('Distribution of Trip Distance')\n",
    "plt.xlabel('Trip Distance (miles)')\n",
    "plt.ylabel('Frequency')\n",
    "\n",
    "plt.tight_layout()\n",
    "plt.show()\n",
    " "
   ]
  },
  {
   "cell_type": "markdown",
   "metadata": {},
   "source": [
    "## Reading Assignment"
   ]
  },
  {
   "cell_type": "markdown",
   "metadata": {},
   "source": [
    "#### Read 'Python naming conventions'(https://visualgit.readthedocs.io/en/latest/pages/naming_convention.html) and give a example name of a Python function and a constant."
   ]
  },
  {
   "cell_type": "code",
   "execution_count": 27,
   "metadata": {},
   "outputs": [
    {
     "ename": "IndentationError",
     "evalue": "expected an indented block after function definition on line 2 (1196525429.py, line 5)",
     "output_type": "error",
     "traceback": [
      "\u001b[1;36m  Cell \u001b[1;32mIn[27], line 5\u001b[1;36m\u001b[0m\n\u001b[1;33m    PI = 3.14159\u001b[0m\n\u001b[1;37m    ^\u001b[0m\n\u001b[1;31mIndentationError\u001b[0m\u001b[1;31m:\u001b[0m expected an indented block after function definition on line 2\n"
     ]
    }
   ],
   "source": [
    "# a function\n",
    "def calculate_area(radius):\n",
    "\n",
    "# a constant\n",
    "PI = 3.14159\n",
    "\n",
    "# a package\n",
    "import numpy as np"
   ]
  },
  {
   "cell_type": "markdown",
   "metadata": {},
   "source": [
    "#### Describe a [*magic number*](https://goo.gl/nYMuuG) and the benefits of avoiding 'Unnamed numerical constants' in your code."
   ]
  },
  {
   "cell_type": "markdown",
   "metadata": {},
   "source": [
    "**A magic number** is a specific numerical value that appears in code without explanation. It’s called *“magic”* because its meaning isn’t immediately clear—it just seems to appear out of nowhere.\n",
    "\n",
    "\n",
    "# Benefits of Avoiding Unnamed Numerical Constants in Your Code\n",
    "\n",
    "1. **Improves Readability**  \n",
    "   - Named constants make the code easier to understand at a glance.  \n",
    "   - Developers can quickly grasp the purpose of a value without additional explanation.  \n",
    "\n",
    "2. **Enhances Maintainability**  \n",
    "   - If a numerical value needs to change, updating a single constant is easier than searching for multiple occurrences in the code.  \n",
    "   - Reduces the risk of missing an update in one part of the program.  \n",
    "\n",
    "3. **Reduces Errors**  \n",
    "   - Using named constants minimizes the chances of misinterpreting or incorrectly using numerical values.  \n",
    "   - Prevents duplication of values with different meanings, avoiding logical errors.  \n",
    "\n",
    "4. **Easier Debugging**  \n",
    "   - Debugging becomes more straightforward when constants clearly describe their purpose.  \n",
    "   - Helps identify issues faster by making the intent of values explicit.  \n",
    "\n",
    "5. **Encourages Code Reusability**  \n",
    "   - A well-defined constant can be reused in multiple places, ensuring consistency.  \n",
    "   - Eliminates the need to hardcode the same value repeatedly.  \n",
    "\n",
    "6. **Facilitates Collaboration**  \n",
    "   - When multiple developers work on the same codebase, named constants improve communication and understanding.  \n",
    "   - Avoids confusion about the purpose of specific numbers.  \n",
    "\n",
    "7. **Simplifies Documentation**  \n",
    "   - Well-named constants serve as self-documenting code, reducing the need for extra comments.  \n",
    "   - Improves overall code structure and readability.  \n",
    "\n",
    "8. **Adapts to Future Changes**  \n",
    "   - If a business rule or regulation changes (e.g., tax rates, limits, or thresholds), constants make the transition seamless.  \n",
    "   - Only one value needs to be updated rather than modifying multiple instances.  \n",
    "\n",
    "By replacing **magic numbers** with meaningful constants, your code becomes **cleaner, easier to manage, and less prone to errors.**\n"
   ]
  },
  {
   "cell_type": "markdown",
   "metadata": {},
   "source": [
    "#### <font color=red> Check your previous code in this notebook to make sure there is no magic number and the naming follows the convention.</font>"
   ]
  },
  {
   "cell_type": "markdown",
   "metadata": {},
   "source": [
    "#### If you want to know more about Python coding styles, read [\"Code Style\" from \"A Hitchhiker's Guide to Python\"](https://docs.python-guide.org/writing/style/). You don't need to follow every detail on the first pass, but it will serve as a useful reference throughout the semester as your base coding improves."
   ]
  },
  {
   "cell_type": "code",
   "execution_count": null,
   "metadata": {},
   "outputs": [],
   "source": []
  },
  {
   "cell_type": "markdown",
   "metadata": {},
   "source": [
    "## Check Your Work\n",
    "#### <font color=red> Make sure you restart the Python kernel and run all of your cells to ensure that the entire notebook executes through without error. This can be done by clicking 'Kernel' and then 'Restart & Run All'. </font> This is the first step in how your homework will be checked."
   ]
  }
 ],
 "metadata": {
  "kernelspec": {
   "display_name": "Python 3",
   "language": "python",
   "name": "python3"
  },
  "language_info": {
   "codemirror_mode": {
    "name": "ipython",
    "version": 3
   },
   "file_extension": ".py",
   "mimetype": "text/x-python",
   "name": "python",
   "nbconvert_exporter": "python",
   "pygments_lexer": "ipython3",
   "version": "3.11.9"
  }
 },
 "nbformat": 4,
 "nbformat_minor": 2
}
